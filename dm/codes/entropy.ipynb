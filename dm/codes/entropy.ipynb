{
  "nbformat": 4,
  "nbformat_minor": 0,
  "metadata": {
    "colab": {
      "provenance": [],
      "authorship_tag": "ABX9TyNfo26sLjyieIi/hE/TOggT",
      "include_colab_link": true
    },
    "kernelspec": {
      "name": "python3",
      "display_name": "Python 3"
    },
    "language_info": {
      "name": "python"
    }
  },
  "cells": [
    {
      "cell_type": "markdown",
      "metadata": {
        "id": "view-in-github",
        "colab_type": "text"
      },
      "source": [
        "<a href=\"https://colab.research.google.com/github/krahul2024/dsa-acad/blob/usacoCodes/dm/codes/entropy.ipynb\" target=\"_parent\"><img src=\"https://colab.research.google.com/assets/colab-badge.svg\" alt=\"Open In Colab\"/></a>"
      ]
    },
    {
      "cell_type": "markdown",
      "source": [
        "\n",
        "\n",
        "```\n",
        "Mounting google drive to make drive files availabe to\n",
        "for reading and writing purpose\n",
        "```\n",
        "\n"
      ],
      "metadata": {
        "id": "ALrYmqWnw4AA"
      }
    },
    {
      "cell_type": "code",
      "source": [
        "from google.colab import drive\n",
        "drive.mount('/content/drive')\n",
        "import pandas as pd\n",
        "drive_url = \"/content/drive/MyDrive/Colab Notebooks/dm/datasets/iris.csv\"\n",
        "data_frame = pd.read_csv(drive_url)  \n",
        "if(not data_frame.empty): print(\"\\nDataframe is not empty.\")\n",
        "else: print(\"Dataframe is empty.\") \n",
        "data_frame\n",
        "\n",
        "import math"
      ],
      "metadata": {
        "id": "Ccp0aT-rqaiF",
        "outputId": "3b836bff-cad8-452d-9f2d-2e336a9f265d",
        "colab": {
          "base_uri": "https://localhost:8080/"
        }
      },
      "execution_count": 31,
      "outputs": [
        {
          "output_type": "stream",
          "name": "stdout",
          "text": [
            "Drive already mounted at /content/drive; to attempt to forcibly remount, call drive.mount(\"/content/drive\", force_remount=True).\n",
            "\n",
            "Dataframe is not empty.\n"
          ]
        }
      ]
    },
    {
      "cell_type": "code",
      "source": [
        "#@title entropy calculation\n",
        "from sklearn.preprocessing import MinMaxScaler\n",
        "import math \n",
        "def entropy_column(value):\n",
        "\t\tlst = list(value)\n",
        "\t\tdictionary = dict() #creating a dictionary for storing key values and pairs \n",
        "\t\tfor i in  range(len(lst)):\n",
        "\t\t\tdictionary[lst[i]] = [0,0] # initializing dictionary as first element is count and second is entropy for respective key\n",
        "\n",
        "\t\t# updating counts of each element \n",
        "\t\tfor i in range(len(lst)):\n",
        "\t\t\ttemp = dictionary[lst[i]] \n",
        "\t\t\ttemp[0] = temp[0] + 1 \n",
        "\t\t\tdictionary[lst[i]] = temp \n",
        "\n",
        "\t\t# calculating entropy for each element using the formula plogp\n",
        "\t\tfor val in dictionary:\n",
        "\t\t\tprob = dictionary[val][0]/150  \n",
        "\t\t\tprob = prob*(math.log2(prob))\n",
        "\t\t\tdictionary[val][1] = prob\n",
        "\n",
        "\t\t# for item in dictionary:\n",
        "\t\t# \tprint('value:',item,',Count:',dictionary[item][0],'Entropy:',dictionary[item][1],'\\n') \n",
        "\n",
        "\t\treturn dictionary  # returning dictionary which has labels and entropy for each of the label \n",
        "\t\n",
        "\n",
        "\n",
        "from google.colab import files\n",
        "# this is for reading from github as this makes file import easier and reduces pain of uploading file again and again in below case\n",
        "file_url = \"https://raw.githubusercontent.com/krahul2024/random_repo/usacoCodes/dm/datasets/iris.csv\"\n",
        "df = pd.read_csv(file_url) \n",
        "# while using this method we will have to upload file every time we will run this code segment\n",
        "# uploaded = files.upload()\n",
        "# df=pd.read_csv(r'iris.csv')\n",
        "# print(df.shape) #this prints shape of the dataset in terms of rows and columns \n",
        "\n",
        "#inputs \n",
        "label = df[\"Species\"] \n",
        "df.drop(\"Species\" , axis = 1 , inplace = True)  \n",
        "df.drop(\"Id\",axis=1,inplace=True) \n",
        "# print(df.shape)\n",
        "\n",
        "# print(label.value_counts)  \n",
        "#label.value_counts().plot(kind=bar) \n",
        "features = set(df.columns) \n",
        "# print(features) \n",
        "scaler = MinMaxScaler() \n",
        "df_norm = df.copy() \n",
        "df_norm[list(features)] = scaler.fit_transform(df[list(features)])\n",
        "#find entropy of labels or the flower species types \n",
        "\n",
        "list_of_labels = list(features) \n",
        "\n",
        "print('value , count , entropy For Label \\n',entropy_column(label),'\\n')\n",
        "for i in range(len(list_of_labels)):\n",
        "  print('value , count , entropy for each of unique values')\n",
        "  print('For ', list_of_labels[i], '\\n',entropy_column(df[list_of_labels[i]]),'\\n')\n",
        "  \n",
        "\t#this is for taking array input using interaction for large inputs we can just use file system\n",
        "# number_of_element = int(input(\"enter size of the array:\")) \n",
        "# lst = []\n",
        "# for i in range(number_of_element):\n",
        "# \tlst.append(int(input(\"enter value\")))\n",
        " \n",
        "# print(lst)\n",
        "\n",
        "\n"
      ],
      "metadata": {
        "id": "1pld7_lzmlOd",
        "cellView": "form"
      },
      "execution_count": null,
      "outputs": []
    },
    {
      "cell_type": "code",
      "source": [
        "#@title mutual-information calculation\n",
        "# let's say we have several properties here sepal length, width ,petal length, width and then species.\n",
        "# so we want to calculate mutual information for all the species with same sepal length\n",
        "# let's say we want to find count of all the probability of having same sepal length and same species\n",
        "# calculating mutual information between one species and sepal-length \n",
        "# for this we need to calculate probability of each of the unique values of sepal length, species and then create probability table\n",
        "def mutual_info(property):\n",
        "    sep_len_data = list([data_frame[\"Species\"],data_frame[property]]) \n",
        "    sep_len_dict = dict() \n",
        "    species_list =list( set(sep_len_data[0]))\n",
        "    value_list = list(set(sep_len_data[1]))\n",
        "    count_values = dict() \n",
        "\n",
        "    # counting occurences of species\n",
        "    for item in sep_len_data[0]:\n",
        "        if item in count_values:# this is in case if the vaule is present\n",
        "            temp = count_values[item] \n",
        "            temp += 1 \n",
        "            count_values[item] = temp  \n",
        "        else :\n",
        "            count_values[item] = 1 \n",
        "\n",
        "    # counting occurences of unique values \n",
        "    for item in sep_len_data[1]:\n",
        "        if item in count_values: \n",
        "            temp = count_values[item] \n",
        "            temp += 1 \n",
        "            count_values[item] = temp \n",
        "        else :\n",
        "            count_values[item] = 1\n",
        "\n",
        "    # creating value pairs for each species of type :  { species -->{ { value -> count } ,{ value -> count } } }\n",
        "    for i in range(len(species_list)):\n",
        "        species = species_list[i]\n",
        "        sep_len_dict[species] = dict() \n",
        "        for j in range(len(value_list)):\n",
        "            sep_len_dict[species][value_list[j]] = 0 \n",
        "\n",
        "    for i in range(len(sep_len_data[1])):\n",
        "        value = sep_len_data[1][i] \n",
        "        species = sep_len_data[0][i] \n",
        "        count = sep_len_dict[species][value] \n",
        "        count += 1 \n",
        "        sep_len_dict[species][value] = count \n",
        "\n",
        "    #calculation of mutual information using the formula\n",
        "    # for i for j sum+= p(i,j)*log(p(i,j)/(p(i)*p(j)))\n",
        "    mutual_information = 0 \n",
        "\n",
        "    for x in species_list:\n",
        "        for y in value_list: \n",
        "            # print(x,y) \n",
        "            pxy = sep_len_dict[x][y]/150  # this is p(x,y)\n",
        "            px = count_values[x]/150\n",
        "            py = count_values[y]/150 \n",
        "            extra_value = 0 \n",
        "            if px and py and pxy:\n",
        "                extra_value = math.log( pxy / (px*py) )\n",
        "            mutual_information += pxy * extra_value\n",
        "\n",
        "    return [mutual_information,sep_len_dict, count_values]\n",
        "\n",
        "  \n"
      ],
      "metadata": {
        "id": "vPGtqoDJ6Ce8"
      },
      "execution_count": 63,
      "outputs": []
    },
    {
      "cell_type": "code",
      "source": [
        "# calling mutual_information function for different properties\n",
        "labels = list(data_frame)\n",
        "# print(labels)\n",
        "for i in range(len(labels)):\n",
        "   if i > 0 and i < len(labels)-1:\n",
        "       result = mutual_info(labels[i])\n",
        "       print(\"Mutual Information for : \",labels[i],\"\\n\", result[0],\"\\n\")\n",
        "\n"
      ],
      "metadata": {
        "id": "poUKEHHtTNe8",
        "outputId": "3e6119a4-087b-4b3a-b72c-457fd9763f40",
        "colab": {
          "base_uri": "https://localhost:8080/"
        }
      },
      "execution_count": 65,
      "outputs": [
        {
          "output_type": "stream",
          "name": "stdout",
          "text": [
            "Mutual Information for :  SepalLengthCm \n",
            " 0.6078468394475831 \n",
            "\n",
            "Mutual Information for :  SepalWidthCm \n",
            " 0.3541080752650382 \n",
            "\n",
            "Mutual Information for :  PetalLengthCm \n",
            " 1.0025102205623484 \n",
            "\n",
            "Mutual Information for :  PetalWidthCm \n",
            " 0.9952885384500019 \n",
            "\n"
          ]
        }
      ]
    },
    {
      "cell_type": "code",
      "source": [],
      "metadata": {
        "id": "_pQoRLntYyH-"
      },
      "execution_count": null,
      "outputs": []
    }
  ]
}