{
  "nbformat": 4,
  "nbformat_minor": 0,
  "metadata": {
    "colab": {
      "provenance": [],
      "authorship_tag": "ABX9TyNm/7YyzOZRJaQb1Me652qJ",
      "include_colab_link": true
    },
    "kernelspec": {
      "name": "python3",
      "display_name": "Python 3"
    },
    "language_info": {
      "name": "python"
    }
  },
  "cells": [
    {
      "cell_type": "markdown",
      "metadata": {
        "id": "view-in-github",
        "colab_type": "text"
      },
      "source": [
        "<a href=\"https://colab.research.google.com/github/krahul2024/random_repo/blob/usacoCodes/dm/codes/entropy.ipynb\" target=\"_parent\"><img src=\"https://colab.research.google.com/assets/colab-badge.svg\" alt=\"Open In Colab\"/></a>"
      ]
    },
    {
      "cell_type": "markdown",
      "source": [
        "\n",
        "\n",
        "```\n",
        "Mounting google drive to make drive files availabe to\n",
        "for reading and writing purpose\n",
        "```\n",
        "\n"
      ],
      "metadata": {
        "id": "ALrYmqWnw4AA"
      }
    },
    {
      "cell_type": "code",
      "source": [
        "from google.colab import drive\n",
        "drive.mount('/content/drive')\n",
        "\n",
        "drive_url = \"/content/drive/MyDrive/Colab Notebooks/dm/datasets/iris.csv\"\n",
        "data_frame = pd.read_csv(drive_url)  \n",
        "if(not data_frame.empty): print(\"\\nDataframe is not empty.\")\n",
        "else: print(\"Dataframe is empty.\")"
      ],
      "metadata": {
        "id": "Ccp0aT-rqaiF"
      },
      "execution_count": null,
      "outputs": []
    },
    {
      "cell_type": "code",
      "source": [
        "import pandas as pd \n",
        "from sklearn.preprocessing import MinMaxScaler\n",
        "import math \n",
        "def entropy_column(value):\n",
        "\t\tlst = list(value)\n",
        "\t\tdictionary = dict() #creating a dictionary for storing key values and pairs \n",
        "\t\tfor i in  range(len(lst)):\n",
        "\t\t\tdictionary[lst[i]] = [0,0] # initializing dictionary as first element is count and second is entropy for respective key\n",
        "\n",
        "\t\t# updating counts of each element \n",
        "\t\tfor i in range(len(lst)):\n",
        "\t\t\ttemp = dictionary[lst[i]] \n",
        "\t\t\ttemp[0] = temp[0] + 1 \n",
        "\t\t\tdictionary[lst[i]] = temp \n",
        "\n",
        "\t\t# calculating entropy for each element using the formula plogp\n",
        "\t\tfor val in dictionary:\n",
        "\t\t\tprob = dictionary[val][0]/150  \n",
        "\t\t\tprob = prob*(math.log2(prob))\n",
        "\t\t\tdictionary[val][1] = prob\n",
        "\n",
        "\t\t# for item in dictionary:\n",
        "\t\t# \tprint('value:',item,',Count:',dictionary[item][0],'Entropy:',dictionary[item][1],'\\n') \n",
        "\n",
        "\t\treturn dictionary  # returning dictionary which has labels and entropy for each of the label \n",
        "\t\n",
        "\n",
        "\n",
        "from google.colab import files\n",
        "# this is for reading from github as this makes file import easier and reduces pain of uploading file again and again in below case\n",
        "file_url = \"https://raw.githubusercontent.com/krahul2024/random_repo/usacoCodes/dm/datasets/iris.csv\"\n",
        "df = pd.read_csv(file_url) \n",
        "# while using this method we will have to upload file every time we will run this code segment\n",
        "# uploaded = files.upload()\n",
        "# df=pd.read_csv(r'iris.csv')\n",
        "# print(df.shape) #this prints shape of the dataset in terms of rows and columns \n",
        "\n",
        "#inputs \n",
        "label = df[\"Species\"] \n",
        "df.drop(\"Species\" , axis = 1 , inplace = True)  \n",
        "df.drop(\"Id\",axis=1,inplace=True) \n",
        "# print(df.shape)\n",
        "\n",
        "# print(label.value_counts)  \n",
        "#label.value_counts().plot(kind=bar) \n",
        "features = set(df.columns) \n",
        "# print(features) \n",
        "scaler = MinMaxScaler() \n",
        "df_norm = df.copy() \n",
        "df_norm[list(features)] = scaler.fit_transform(df[list(features)])\n",
        "#find entropy of labels or the flower species types \n",
        "\n",
        "list_of_labels = list(features) \n",
        "\n",
        "print('value , count , entropy For Label \\n',entropy_column(label),'\\n')\n",
        "for i in range(len(list_of_labels)):\n",
        "  print('value , count , entropy for each of unique values')\n",
        "  print('For ', list_of_labels[i], '\\n',entropy_column(df[list_of_labels[i]]),'\\n')\n",
        "  \n",
        "\t#this is for taking array input using interaction for large inputs we can just use file system\n",
        "# number_of_element = int(input(\"enter size of the array:\")) \n",
        "# lst = []\n",
        "# for i in range(number_of_element):\n",
        "# \tlst.append(int(input(\"enter value\")))\n",
        " \n",
        "# print(lst)\n",
        "\n",
        "\n"
      ],
      "metadata": {
        "id": "1pld7_lzmlOd",
        "colab": {
          "base_uri": "https://localhost:8080/"
        },
        "outputId": "95164d45-9f1a-439f-f4a3-6144a56aaa83"
      },
      "execution_count": 33,
      "outputs": [
        {
          "output_type": "stream",
          "name": "stdout",
          "text": [
            "value , count , entropy For Label \n",
            " {'Iris-setosa': [50, -0.5283208335737187], 'Iris-versicolor': [50, -0.5283208335737187], 'Iris-virginica': [50, -0.5283208335737187]} \n",
            "\n",
            "value , count , entropy for each of unique values\n",
            "For  PetalLengthCm \n",
            " {1.4: [12, -0.29150849518197797], 1.3: [7, -0.20633497586045293], 1.5: [14, -0.3193366183875725], 1.7: [4, -0.13943516507989015], 1.6: [7, -0.20633497586045293], 1.1: [1, -0.04819212460330587], 1.2: [2, -0.08305091587327841], 1.0: [1, -0.04819212460330587], 1.9: [2, -0.08305091587327841], 4.7: [5, -0.1635630198536173], 4.5: [8, -0.22553699682644698], 4.9: [5, -0.1635630198536173], 4.0: [5, -0.1635630198536173], 4.6: [3, -0.11287712379549449], 3.3: [2, -0.08305091587327841], 3.9: [3, -0.11287712379549449], 3.5: [2, -0.08305091587327841], 4.2: [4, -0.13943516507989015], 3.6: [1, -0.04819212460330587], 4.4: [4, -0.13943516507989015], 4.1: [3, -0.11287712379549449], 4.8: [4, -0.13943516507989015], 4.3: [2, -0.08305091587327841], 5.0: [4, -0.13943516507989015], 3.8: [1, -0.04819212460330587], 3.7: [1, -0.04819212460330587], 5.1: [8, -0.22553699682644698], 3.0: [1, -0.04819212460330587], 6.0: [2, -0.08305091587327841], 5.9: [2, -0.08305091587327841], 5.6: [6, -0.185754247590989], 5.8: [3, -0.11287712379549449], 6.6: [1, -0.04819212460330587], 6.3: [1, -0.04819212460330587], 6.1: [3, -0.11287712379549449], 5.3: [2, -0.08305091587327841], 5.5: [3, -0.11287712379549449], 6.7: [2, -0.08305091587327841], 6.9: [1, -0.04819212460330587], 5.7: [3, -0.11287712379549449], 6.4: [1, -0.04819212460330587], 5.4: [2, -0.08305091587327841], 5.2: [2, -0.08305091587327841]} \n",
            "\n",
            "value , count , entropy for each of unique values\n",
            "For  SepalWidthCm \n",
            " {3.5: [6, -0.185754247590989], 3.0: [26, -0.4382523552081634], 3.2: [13, -0.3057928442707484], 3.1: [12, -0.29150849518197797], 3.6: [3, -0.11287712379549449], 3.9: [2, -0.08305091587327841], 3.4: [12, -0.29150849518197797], 2.9: [10, -0.26045937304056793], 3.7: [3, -0.11287712379549449], 4.0: [1, -0.04819212460330587], 4.4: [1, -0.04819212460330587], 3.8: [6, -0.185754247590989], 3.3: [6, -0.185754247590989], 4.1: [1, -0.04819212460330587], 4.2: [1, -0.04819212460330587], 2.3: [4, -0.13943516507989015], 2.8: [14, -0.3193366183875725], 2.4: [3, -0.11287712379549449], 2.7: [9, -0.2435336213432141], 2.0: [1, -0.04819212460330587], 2.2: [3, -0.11287712379549449], 2.5: [8, -0.22553699682644698], 2.6: [5, -0.1635630198536173]} \n",
            "\n",
            "value , count , entropy for each of unique values\n",
            "For  SepalLengthCm \n",
            " {5.1: [9, -0.2435336213432141], 4.9: [6, -0.185754247590989], 4.7: [2, -0.08305091587327841], 4.6: [4, -0.13943516507989015], 5.0: [10, -0.26045937304056793], 5.4: [6, -0.185754247590989], 4.4: [3, -0.11287712379549449], 4.8: [5, -0.1635630198536173], 4.3: [1, -0.04819212460330587], 5.8: [7, -0.20633497586045293], 5.7: [8, -0.22553699682644698], 5.2: [4, -0.13943516507989015], 5.5: [7, -0.20633497586045293], 4.5: [1, -0.04819212460330587], 5.3: [1, -0.04819212460330587], 7.0: [1, -0.04819212460330587], 6.4: [7, -0.20633497586045293], 6.9: [4, -0.13943516507989015], 6.5: [5, -0.1635630198536173], 6.3: [9, -0.2435336213432141], 6.6: [2, -0.08305091587327841], 5.9: [3, -0.11287712379549449], 6.0: [6, -0.185754247590989], 6.1: [6, -0.185754247590989], 5.6: [6, -0.185754247590989], 6.7: [8, -0.22553699682644698], 6.2: [4, -0.13943516507989015], 6.8: [3, -0.11287712379549449], 7.1: [1, -0.04819212460330587], 7.6: [1, -0.04819212460330587], 7.3: [1, -0.04819212460330587], 7.2: [3, -0.11287712379549449], 7.7: [4, -0.13943516507989015], 7.4: [1, -0.04819212460330587], 7.9: [1, -0.04819212460330587]} \n",
            "\n",
            "value , count , entropy for each of unique values\n",
            "For  PetalWidthCm \n",
            " {0.2: [28, -0.45200657010847833], 0.4: [7, -0.20633497586045293], 0.3: [7, -0.20633497586045293], 0.1: [6, -0.185754247590989], 0.5: [1, -0.04819212460330587], 0.6: [1, -0.04819212460330587], 1.4: [8, -0.22553699682644698], 1.5: [12, -0.29150849518197797], 1.3: [13, -0.3057928442707484], 1.6: [4, -0.13943516507989015], 1.0: [7, -0.20633497586045293], 1.1: [3, -0.11287712379549449], 1.8: [12, -0.29150849518197797], 1.2: [5, -0.1635630198536173], 1.7: [2, -0.08305091587327841], 2.5: [3, -0.11287712379549449], 1.9: [5, -0.1635630198536173], 2.1: [6, -0.185754247590989], 2.2: [3, -0.11287712379549449], 2.0: [6, -0.185754247590989], 2.4: [3, -0.11287712379549449], 2.3: [8, -0.22553699682644698]} \n",
            "\n",
            "enter size of the array:5\n",
            "enter value53\n",
            "enter value53\n",
            "enter value53\n",
            "enter value62\n",
            "enter value623\n",
            "[53, 53, 53, 62, 623]\n"
          ]
        }
      ]
    },
    {
      "cell_type": "code",
      "source": [
        "print(\"this i s the change in this file and it must be seen if the file is pushed to github\")"
      ],
      "metadata": {
        "id": "KcXz063p0xM0"
      },
      "execution_count": null,
      "outputs": []
    },
    {
      "cell_type": "code",
      "source": [
        "ls-l"
      ],
      "metadata": {
        "colab": {
          "base_uri": "https://localhost:8080/"
        },
        "id": "vPGtqoDJ6Ce8",
        "outputId": "f6226050-904c-421f-9f85-ee40c4d07b68"
      },
      "execution_count": 24,
      "outputs": [
        {
          "output_type": "stream",
          "name": "stdout",
          "text": [
            "total 8\n",
            "drwx------ 6 root root 4096 Apr 26 13:33 \u001b[0m\u001b[01;34mdrive\u001b[0m/\n",
            "drwxr-xr-x 1 root root 4096 Apr 24 17:05 \u001b[01;34msample_data\u001b[0m/\n"
          ]
        }
      ]
    },
    {
      "cell_type": "code",
      "source": [],
      "metadata": {
        "id": "3EIsOvN09tRt"
      },
      "execution_count": null,
      "outputs": []
    }
  ]
}