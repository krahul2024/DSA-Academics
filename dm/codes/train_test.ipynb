{
  "nbformat": 4,
  "nbformat_minor": 0,
  "metadata": {
    "colab": {
      "provenance": [],
      "mount_file_id": "1IXvJFp85VZ4BijKSs-EwKqhpA4pLAW9R",
      "authorship_tag": "ABX9TyM9kzX9LriMwqfCsdiHnIFf",
      "include_colab_link": true
    },
    "kernelspec": {
      "name": "python3",
      "display_name": "Python 3"
    },
    "language_info": {
      "name": "python"
    }
  },
  "cells": [
    {
      "cell_type": "markdown",
      "metadata": {
        "id": "view-in-github",
        "colab_type": "text"
      },
      "source": [
        "<a href=\"https://colab.research.google.com/github/krahul2024/dsa-acad/blob/usacoCodes/dm/codes/train_test.ipynb\" target=\"_parent\"><img src=\"https://colab.research.google.com/assets/colab-badge.svg\" alt=\"Open In Colab\"/></a>"
      ]
    },
    {
      "cell_type": "code",
      "execution_count": 36,
      "metadata": {
        "id": "QIlTWEO0mh3Q",
        "cellView": "form"
      },
      "outputs": [],
      "source": [
        "#@title Importing all the modules required\n",
        "import tensorflow as tf\n",
        "import pandas as pd \n",
        "from sklearn.preprocessing import MinMaxScaler\n",
        "import math \n",
        "import numpy as np   \n",
        "from sklearn import metrics , svm\n",
        "from sklearn.linear_model import LinearRegression\n",
        "from sklearn.tree import DecisionTreeClassifier\n",
        "from sklearn.model_selection import train_test_split , cross_val_score\n",
        "import matplotlib.pyplot as plt \n",
        "from sklearn.preprocessing import StandardScaler \n",
        "from sklearn.neighbors import KNeighborsClassifier\n",
        "import seaborn as sns "
      ]
    },
    {
      "cell_type": "code",
      "source": [
        "#@title Old-processing\n",
        "def entropy_column(value):\n",
        "\tlst = list(value)\n",
        "\tdictionary = dict() #creating a dictionary for storing key values and pairs \n",
        "\tfor i in  range(len(lst)):\n",
        "\t\tdictionary[lst[i]] = [0,0] # initializing dictionary as first element is count and second is entropy for respective key\n",
        "\n",
        "\t# updating counts of each element \n",
        "\tfor i in range(len(lst)):\n",
        "\t\ttemp = dictionary[lst[i]] \n",
        "\t\ttemp[0] = temp[0] + 1 \n",
        "\t\tdictionary[lst[i]] = temp \n",
        "\n",
        "\t# calculating entropy for each element using the formula plogp\n",
        "\tfor val in dictionary:\n",
        "\t\tprob = dictionary[val][0]/150  \n",
        "\t\tprob = prob*(math.log2(prob))\n",
        "\t\tdictionary[val][1] = prob\n",
        "\n",
        "\t# for item in dictionary:\n",
        "\t# \tprint('value:',item,',Count:',dictionary[item][0],'Entropy:',dictionary[item][1],'\\n') \n",
        "\n",
        "\treturn dictionary  # returning dictionary which has labels and entropy for each of the label \n",
        "\t\n",
        "\n",
        "\n",
        "from google.colab import files\n",
        "# this is for reading from github as this makes file import easier and reduces pain of uploading file again and again in below case\n",
        "file_url = \"https://raw.githubusercontent.com/krahul2024/random_repo/usacoCodes/dm/datasets/iris.csv\"\n",
        "df = pd.read_csv(file_url) \n",
        "\n",
        "# while using this method we will have to upload file every time we will run this code segment\n",
        "# uploaded = files.upload()\n",
        "# df=pd.read_csv(r'iris.csv')\n",
        "# print(df.shape) #this prints shape of the dataset in terms of rows and columns \n",
        "\n",
        "#inputs \n",
        "label = df[\"Species\"] \n",
        "df.drop(\"Species\" , axis = 1 , inplace = True)  \n",
        "df.drop(\"Id\",axis=1,inplace=True) \n",
        "# print(df.shape)\n",
        "\n",
        "# print(label.value_counts)  \n",
        "#label.value_counts().plot(kind=bar) \n",
        "features = set(df.columns) \n",
        "# print(features) \n",
        "scaler = MinMaxScaler() \n",
        "df_norm = df.copy() \n",
        "df_norm[list(features)] = scaler.fit_transform(df[list(features)])\n",
        "#find entropy of labels or the flower species types \n",
        "\n",
        "list_of_labels = list(features) \n",
        "\n",
        "print('value , count , entropy For Label \\n',entropy_column(label),'\\n')\n",
        "for i in range(len(list_of_labels)):\n",
        "  print('value , count , entropy for each of unique values')\n",
        "  print('For ', list_of_labels[i], '\\n',entropy_column(df[list_of_labels[i]]),'\\n')\n",
        "  \n",
        "\n",
        "\n"
      ],
      "metadata": {
        "id": "1pld7_lzmlOd",
        "cellView": "form"
      },
      "execution_count": null,
      "outputs": []
    },
    {
      "cell_type": "code",
      "source": [
        "#@title Getting DataSet\n",
        "file_url = \"https://raw.githubusercontent.com/krahul2024/random_repo/usacoCodes/dm/datasets/iris.csv\"\n",
        "flower_data = pd.read_csv(file_url , index_col=0) \n",
        "# printing the dataframe \n",
        "flower_data.describe() # this is for getting all the details about this dataset \n",
        "\n"
      ],
      "metadata": {
        "cellView": "form",
        "id": "bkozOHkWZlI5"
      },
      "execution_count": null,
      "outputs": []
    },
    {
      "cell_type": "markdown",
      "source": [],
      "metadata": {
        "id": "HKlOTX5caSy6"
      }
    },
    {
      "cell_type": "code",
      "source": [
        "#@title Basic Training using svm and Decision Trees\n",
        "flower_data.describe()\n",
        "\n",
        " # this is for splitting the dataset in 25% and 75% parts for testing and training respectively\n",
        "train , test = train_test_split(flower_data , test_size = 0.25)\n",
        "# test.describe()\n",
        "\n",
        "# Species is label and rest are features of this dataset \n",
        "\n",
        "# getting all the features from training dataset except label  in train_x \n",
        "train_x = train[['SepalWidthCm' , 'SepalLengthCm' , 'PetalLengthCm' , 'PetalWidthCm']]\n",
        "train_y = train['Species']\n",
        "# train_x.describe()\n",
        "\n",
        "# getting all the features from test dataset except the label\n",
        "test_x = test[['SepalWidthCm' , 'SepalLengthCm' , 'PetalLengthCm' , 'PetalWidthCm']]\n",
        "test_y = test['Species']\n",
        "\n",
        "# Creating a model to train the training dataset \n",
        "model = svm.SVC() \n",
        "model.fit(train_x , train_y) \n",
        "prediction = model.predict(test_x)\n",
        "first_accuray = metrics.accuracy_score(prediction , test_y )\n",
        "\n",
        "\n",
        "#  Now using the Decision trees\n",
        "model = DecisionTreeClassifier()\n",
        "model.fit(train_x , train_y) \n",
        "prediction_dt = model.predict(test_x) \n",
        "second_accuracy = metrics.accuracy_score(prediction_dt , test_y) \n",
        "\n",
        "flower_data\n",
        "\n",
        "\n"
      ],
      "metadata": {
        "id": "dLvAGcpAZy5X",
        "cellView": "form"
      },
      "execution_count": null,
      "outputs": []
    },
    {
      "cell_type": "code",
      "source": [
        "#@title KNN-Training\n",
        "scaler = StandardScaler() \n",
        "X = flower_data.drop('Species' , axis = 1) \n",
        "Y = flower_data['Species']  \n",
        "x_train , x_test , y_train , y_test = train_test_split(X , Y , test_size = 0.25)\n",
        "\n",
        "# scaling the features using scaler \n",
        "x_train = scaler.fit_transform(x_train) \n",
        "x_test = scaler.transform(x_test) \n",
        "\n",
        "# fitting and evaluating the model which we just scaled or normalized/standardized \n",
        "knn = KNeighborsClassifier(n_neighbors = 3) \n",
        "knn.fit(x_train , y_train) \n",
        "\n",
        "prediction_knn = knn.predict(x_test) \n",
        "prediction_accuracy = metrics.accuracy_score(prediction_knn , y_test ) \n",
        "# prediction_accuracy\n",
        "\n",
        "# using cross validation to get better value of the score or predicted accuracy  \n",
        "k_values = [i for i in range (1, 31)] \n",
        "scores_knn = []  \n",
        "x = scaler.fit_transform(X) \n",
        "for k in k_values: \n",
        "    knn = KNeighborsClassifier(n_neighbors = k) \n",
        "    score_knn = cross_val_score(knn , x , Y , cv = 5) \n",
        "    scores_knn.append(np.mean(score_knn))\n",
        "\n",
        "\n",
        "print(scores_knn) \n",
        "\n",
        "# plotting all the scores\n",
        "sns.lineplot(x = k_values , y = scores_knn , marker = 'o')\n",
        "plt.xlabel('K-Value')\n",
        "plt.ylabel('Accuracy Score')\n"
      ],
      "metadata": {
        "id": "KX0Ml7QZcRng",
        "outputId": "e707f02d-1d0d-4d1d-e4d2-a20f08a426ec",
        "colab": {
          "base_uri": "https://localhost:8080/",
          "height": 506
        }
      },
      "execution_count": 37,
      "outputs": [
        {
          "output_type": "stream",
          "name": "stdout",
          "text": [
            "[0.9466666666666665, 0.9466666666666667, 0.9533333333333334, 0.9533333333333334, 0.96, 0.9666666666666668, 0.9533333333333334, 0.9666666666666668, 0.96, 0.96, 0.9399999999999998, 0.9466666666666665, 0.9466666666666667, 0.9400000000000001, 0.9466666666666667, 0.9333333333333333, 0.9266666666666667, 0.9400000000000001, 0.9533333333333334, 0.9466666666666667, 0.9466666666666667, 0.9399999999999998, 0.9333333333333332, 0.9333333333333332, 0.9399999999999998, 0.9333333333333332, 0.9399999999999998, 0.9266666666666665, 0.9266666666666665, 0.9199999999999999]\n"
          ]
        },
        {
          "output_type": "execute_result",
          "data": {
            "text/plain": [
              "Text(0, 0.5, 'Accuracy Score')"
            ]
          },
          "metadata": {},
          "execution_count": 37
        },
        {
          "output_type": "display_data",
          "data": {
            "text/plain": [
              "<Figure size 640x480 with 1 Axes>"
            ],
            "image/png": "[encoded data removed]"
          },
          "metadata": {}
        }
      ]
    },
    {
      "cell_type": "code",
      "source": [],
      "metadata": {
        "id": "sQCUj37WyPiN"
      },
      "execution_count": null,
      "outputs": []
    }
  ]
}